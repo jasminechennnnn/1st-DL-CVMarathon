{
 "cells": [
  {
   "cell_type": "markdown",
   "metadata": {},
   "source": [
    "## 『作業內容』\n",
    "####   依照指示，搭建Maxpooling層與全連接層"
   ]
  },
  {
   "cell_type": "markdown",
   "metadata": {},
   "source": [
    "## 『目標』\n",
    "####   了解Maxpooling的原理與CNN、FC層連結的方式"
   ]
  },
  {
   "cell_type": "code",
   "execution_count": 18,
   "metadata": {},
   "outputs": [],
   "source": [
    "from keras.models import Sequential  #用來啟動 NN\n",
    "from keras.layers import Conv2D  # Convolution Operation\n",
    "from keras.layers import MaxPooling2D # Pooling\n",
    "from keras.layers import Flatten\n",
    "from keras.layers import Dense # Fully Connected Networks\n",
    "from keras.layers import GlobalAveragePooling2D"
   ]
  },
  {
   "cell_type": "code",
   "execution_count": 43,
   "metadata": {
    "colab": {},
    "colab_type": "code",
    "id": "43xxX0yJxiDr"
   },
   "outputs": [],
   "source": [
    "# 大小為32*32的圖片, 並有RGB三個通道\n",
    "input_shape = (32, 32, 3)\n",
    "\n",
    "model = Sequential()\n",
    "\n",
    "## 第一層, 32張3*3\n",
    "model.add(Conv2D(32, kernel_size=(3, 3), padding='same',input_shape=input_shape)) #32*32*32\n",
    "##pooling_size=2,2 strides=2,2 輸出feature map 大小為多少？ #16*16*32\n",
    "model.add(MaxPooling2D(pool_size=(2, 2))) #(strides預設會跟pool_size一樣)\n",
    "\n",
    "## 第二層, 64張3*3\n",
    "model.add(Conv2D(64, kernel_size=(3, 3), padding='same')) #16*16*64\n",
    "##pooling_size=2,2 strides=2,2 輸出feature map 大小為多少？ #8*8*64\n",
    "model.add(MaxPooling2D(pool_size=(2, 2))) #(strides預設會跟pool_size一樣)\n",
    "\n",
    "## 第三層, 128張3*3\n",
    "model.add(Conv2D(128, kernel_size=(3, 3), padding='same')) #8*8*128\n",
    "##pooling_size=1,1 strides=1,1 輸出feature map 大小為多少？ #8*8*128\n",
    "model.add(MaxPooling2D(pool_size=(1, 1))) #(strides預設會跟pool_size一樣)\n",
    "\n",
    "## \n",
    "model.add(Conv2D(10, kernel_size=(3, 3), padding='same')) #8*8*10\n",
    "##Flatten完尺寸如何變化？ #640\n",
    "model.add(Flatten())\n",
    "#關掉Flatten，使用GlobalAveragePooling2D完尺寸如何變化？ #10\n",
    "#model.add(GlobalAveragePooling2D())\n",
    "\n",
    "## 全連接層使用28個units\n",
    "model.add(Dense(28))"
   ]
  },
  {
   "cell_type": "code",
   "execution_count": 44,
   "metadata": {
    "colab": {},
    "colab_type": "code",
    "id": "nFgU3mB-xiDt",
    "outputId": "6fb884fa-75ad-4b47-b5c6-1fc948b2d614"
   },
   "outputs": [
    {
     "name": "stdout",
     "output_type": "stream",
     "text": [
      "_________________________________________________________________\n",
      "Layer (type)                 Output Shape              Param #   \n",
      "=================================================================\n",
      "conv2d_94 (Conv2D)           (None, 32, 32, 32)        896       \n",
      "_________________________________________________________________\n",
      "max_pooling2d_70 (MaxPooling (None, 16, 16, 32)        0         \n",
      "_________________________________________________________________\n",
      "conv2d_95 (Conv2D)           (None, 16, 16, 64)        18496     \n",
      "_________________________________________________________________\n",
      "max_pooling2d_71 (MaxPooling (None, 8, 8, 64)          0         \n",
      "_________________________________________________________________\n",
      "conv2d_96 (Conv2D)           (None, 8, 8, 128)         73856     \n",
      "_________________________________________________________________\n",
      "max_pooling2d_72 (MaxPooling (None, 8, 8, 128)         0         \n",
      "_________________________________________________________________\n",
      "conv2d_97 (Conv2D)           (None, 8, 8, 10)          11530     \n",
      "_________________________________________________________________\n",
      "flatten_14 (Flatten)         (None, 640)               0         \n",
      "_________________________________________________________________\n",
      "dense_18 (Dense)             (None, 28)                17948     \n",
      "=================================================================\n",
      "Total params: 122,726\n",
      "Trainable params: 122,726\n",
      "Non-trainable params: 0\n",
      "_________________________________________________________________\n"
     ]
    }
   ],
   "source": [
    "model.summary()"
   ]
  },
  {
   "cell_type": "code",
   "execution_count": null,
   "metadata": {},
   "outputs": [],
   "source": []
  }
 ],
 "metadata": {
  "colab": {
   "name": "池化、全連接層.ipynb",
   "provenance": []
  },
  "kernelspec": {
   "display_name": "Python 3",
   "language": "python",
   "name": "python3"
  },
  "language_info": {
   "codemirror_mode": {
    "name": "ipython",
    "version": 3
   },
   "file_extension": ".py",
   "mimetype": "text/x-python",
   "name": "python",
   "nbconvert_exporter": "python",
   "pygments_lexer": "ipython3",
   "version": "3.6.7"
  }
 },
 "nbformat": 4,
 "nbformat_minor": 1
}
